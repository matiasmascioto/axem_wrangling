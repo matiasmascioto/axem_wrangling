{
 "cells": [
  {
   "attachments": {},
   "cell_type": "markdown",
   "metadata": {
    "collapsed": true
   },
   "source": [
    "# Futbolistas Argentinos AXEM\n",
    "## Limpieza del dataset de Fubolistas Argentinos por el mundo\n",
    "\n",
    "### ¿Qué es Futbolistas Argentinos AXEM?\n",
    "\n",
    "Futbolistas Argentinos AXEM se encarga de hacer el seguimiento de la carrera de más de 2500 futbolistas argentinos por el mundo. En Diciembre de 2018 publicaron oficialmente la edición N°28 del archivo de Argentinos por el Mundo, con la que se trabajará a continuación.\n",
    "\n",
    "Cuentas oficiales de AXEM: [Web](http://futbolistasaxem.com.ar/) - [Facebook](https://www.facebook.com/FutbolistasAXEM/) - [Twitter](https://twitter.com/FutbolistasAXEM)\n",
    "\n",
    "### Objetivo\n",
    "El objetivo del proyecto es *limpiar* y *transformar* el dataset de AXEM para que quede en un formato más apropiado para trabajarlo.\n",
    "\n",
    "### Datos de entrada\n",
    "En este proyecto se trabajará con el Excel de la edición N°28 de AXEM y con un CSV con códigos y nombres de países, que ayudará en la normalización.\n",
    "\n",
    "*  [Archivo AXEM - Diciembre 2018](https://wetransfer.com/downloads/d75712ef256560fe86403e97cce269d020181219165022/3f3ec4?fbclid=IwAR1JiFmmlJPkEOvVZOH3VviGhy16ZsiPN_hJvMjtsfezT_ogMzlWkuRu-NU) - [Publicación oficial en Facebook](https://www.facebook.com/notes/futbolistas-argentinos-axem/archivo-axem-diciembre-2018/2307096119567319/)\n",
    "    * Descripción: archivo *.xlsx* con información de futbolistas, integrantes de cuerpos técnicos y dirigentes argentinos en el fútbol mundial. Se utilizan sólo las hojas con datos de futbolistas hombres en las 6 confederaciones FIFA (**2621 jugadores**). De cada futbolista se conoce: **liga** y **equipo** en el que juega actualmente; **nombre**; **lugar** y **fecha de nacimiento**; **puesto** y **trayectoria**.\n",
    "    ![axem_2018_preview.JPG](data/images/axem_2018_preview.JPG)\n",
    "*  [Nombres y códigos de países](https://github.com/datasets/country-codes)\n",
    "    * Descripción: archivo *.csv* con nombres y códigos de países. Sólo se utilizan las columnas: **ISO3166-1-Alpha-3**, **ISO3166-1-Alpha-2**, **official_name_es** y **Region Name**.\n",
    "    ![country-codes_preview.JPG](data/images/country-codes_preview.JPG)\n",
    "    \n",
    "### Datos de salida\n",
    "*  */data/output/axem_2018_processed.csv*: archivo .csv con los jugadores argentinos por el mundo. Cada fila corresponde a un jugador.\n",
    "*  */data/output/trayectorias.csv*: archivo .csv con la trayectoria de los jugadores. Cada fila representa el paso de un jugador por un equipo."
   ]
  },
  {
   "cell_type": "code",
   "execution_count": 1,
   "metadata": {},
   "outputs": [],
   "source": [
    "# Imports\n",
    "import pandas as pd\n",
    "import yaml\n",
    "import re\n",
    "import numpy as np\n",
    "import unicodedata\n",
    "import stringdist as sd\n",
    "from IPython.display import display, Markdown as md"
   ]
  },
  {
   "cell_type": "markdown",
   "metadata": {},
   "source": [
    "#### Archivos de entrada\n",
    "  * En *config* guarda los datos del archivo *axem_wrangling.yml* que tiene información de configuración del proyecto (parámetros para leer y escribir los archivos, configuración general)\n",
    "  * En *axem_dfs* guarda una lista de DataFrames. Cada DataFrame contiene una hoja del Excel.\n",
    "  * En *paises_df* guarda un DataFrame con información de países, para aplicar luego en la normalización."
   ]
  },
  {
   "cell_type": "code",
   "execution_count": 2,
   "metadata": {},
   "outputs": [],
   "source": [
    "config = yaml.safe_load(open(\"axem_wrangling.yml\", encoding=\"utf-8\"))\n",
    "axem_dfs = pd.read_excel(**config[\"input\"][\"axem\"])\n",
    "paises_df = pd.read_csv(**config[\"input\"][\"paises\"])"
   ]
  },
  {
   "cell_type": "markdown",
   "metadata": {},
   "source": [
    "### Limpieza y transformación de *paises_df*"
   ]
  },
  {
   "cell_type": "code",
   "execution_count": 3,
   "metadata": {},
   "outputs": [
    {
     "data": {
      "text/html": [
       "<div>\n",
       "<style scoped>\n",
       "    .dataframe tbody tr th:only-of-type {\n",
       "        vertical-align: middle;\n",
       "    }\n",
       "\n",
       "    .dataframe tbody tr th {\n",
       "        vertical-align: top;\n",
       "    }\n",
       "\n",
       "    .dataframe thead th {\n",
       "        text-align: right;\n",
       "    }\n",
       "</style>\n",
       "<table border=\"1\" class=\"dataframe\">\n",
       "  <thead>\n",
       "    <tr style=\"text-align: right;\">\n",
       "      <th></th>\n",
       "      <th>iso_3</th>\n",
       "      <th>iso_2</th>\n",
       "      <th>nombre_oficial</th>\n",
       "      <th>continente</th>\n",
       "      <th>iniciales_3</th>\n",
       "      <th>iniciales_4</th>\n",
       "    </tr>\n",
       "  </thead>\n",
       "  <tbody>\n",
       "    <tr>\n",
       "      <th>0</th>\n",
       "      <td>TWN</td>\n",
       "      <td>TW</td>\n",
       "      <td>NAN</td>\n",
       "      <td>NaN</td>\n",
       "      <td>NAN</td>\n",
       "      <td>NAN</td>\n",
       "    </tr>\n",
       "    <tr>\n",
       "      <th>1</th>\n",
       "      <td>AFG</td>\n",
       "      <td>AF</td>\n",
       "      <td>AFGANISTAN</td>\n",
       "      <td>Asia</td>\n",
       "      <td>AFG</td>\n",
       "      <td>AFGA</td>\n",
       "    </tr>\n",
       "    <tr>\n",
       "      <th>2</th>\n",
       "      <td>ALB</td>\n",
       "      <td>AL</td>\n",
       "      <td>ALBANIA</td>\n",
       "      <td>Europe</td>\n",
       "      <td>ALB</td>\n",
       "      <td>ALBA</td>\n",
       "    </tr>\n",
       "    <tr>\n",
       "      <th>3</th>\n",
       "      <td>DZA</td>\n",
       "      <td>DZ</td>\n",
       "      <td>ARGELIA</td>\n",
       "      <td>Africa</td>\n",
       "      <td>ARG</td>\n",
       "      <td>ARGE</td>\n",
       "    </tr>\n",
       "    <tr>\n",
       "      <th>4</th>\n",
       "      <td>ASM</td>\n",
       "      <td>AS</td>\n",
       "      <td>SAMOA AMERICANA</td>\n",
       "      <td>Oceania</td>\n",
       "      <td>SAM</td>\n",
       "      <td>SAMO</td>\n",
       "    </tr>\n",
       "  </tbody>\n",
       "</table>\n",
       "</div>"
      ],
      "text/plain": [
       "  iso_3 iso_2   nombre_oficial continente iniciales_3 iniciales_4\n",
       "0   TWN    TW              NAN        NaN         NAN         NAN\n",
       "1   AFG    AF       AFGANISTAN       Asia         AFG        AFGA\n",
       "2   ALB    AL          ALBANIA     Europe         ALB        ALBA\n",
       "3   DZA    DZ          ARGELIA     Africa         ARG        ARGE\n",
       "4   ASM    AS  SAMOA AMERICANA    Oceania         SAM        SAMO"
      ]
     },
     "metadata": {},
     "output_type": "display_data"
    }
   ],
   "source": [
    "paises_df.columns = [\"iso_3\", \"iso_2\", \"nombre_oficial\", \"continente\"] # Renombra las columnas\n",
    "\n",
    "def elimina_tildes(s):\n",
    "    s = ''.join((c for c in unicodedata.normalize('NFD',s) if unicodedata.category(c) != 'Mn'))\n",
    "    return s\n",
    "\n",
    "# Elimina tildes para simplificar comparaciones\n",
    "paises_df[\"nombre_oficial\"] = paises_df[\"nombre_oficial\"].apply(lambda x: elimina_tildes(str(x)).upper())\n",
    "\n",
    "# Borra palabras entre paréntesis (ejemplo: 'Venezuela (República Bolivariana de)')\n",
    "paises_df[\"nombre_oficial\"] = paises_df[\"nombre_oficial\"].apply(lambda x: re.sub(\"\\s\\(.+\\)\", \"\", str(x)))\n",
    "\n",
    "# Crea nuevas columnas 'iniciales_3' e 'iniciales_4' que luego servirán para comparaciones con abreviaturas de los países\n",
    "paises_df[\"iniciales_3\"] = paises_df[\"nombre_oficial\"].apply(lambda x: x[0:3].upper())\n",
    "paises_df[\"iniciales_4\"] = paises_df[\"nombre_oficial\"].apply(lambda x: x[0:4].upper())\n",
    "\n",
    "display(paises_df.head())"
   ]
  },
  {
   "cell_type": "markdown",
   "metadata": {},
   "source": [
    "### Limpieza y transformación de *axem_dfs*"
   ]
  },
  {
   "cell_type": "code",
   "execution_count": 4,
   "metadata": {},
   "outputs": [
    {
     "data": {
      "text/markdown": [
       "La lectura del archivo *.xlsx* en un DataFrame no es precisa. Quedan muchas filas sin datos, como se puede            ver a continuación:"
      ],
      "text/plain": [
       "<IPython.core.display.Markdown object>"
      ]
     },
     "metadata": {},
     "output_type": "display_data"
    },
    {
     "data": {
      "text/html": [
       "<div>\n",
       "<style scoped>\n",
       "    .dataframe tbody tr th:only-of-type {\n",
       "        vertical-align: middle;\n",
       "    }\n",
       "\n",
       "    .dataframe tbody tr th {\n",
       "        vertical-align: top;\n",
       "    }\n",
       "\n",
       "    .dataframe thead th {\n",
       "        text-align: right;\n",
       "    }\n",
       "</style>\n",
       "<table border=\"1\" class=\"dataframe\">\n",
       "  <thead>\n",
       "    <tr style=\"text-align: right;\">\n",
       "      <th></th>\n",
       "      <th>level_0</th>\n",
       "      <th>division</th>\n",
       "      <th>equipo</th>\n",
       "      <th>nombre</th>\n",
       "      <th>nacimiento</th>\n",
       "      <th>puesto</th>\n",
       "      <th>trayectoria</th>\n",
       "    </tr>\n",
       "  </thead>\n",
       "  <tbody>\n",
       "    <tr>\n",
       "      <th>0</th>\n",
       "      <td>M-AFC</td>\n",
       "      <td>NaN</td>\n",
       "      <td>NaN</td>\n",
       "      <td>NaN</td>\n",
       "      <td>NaN</td>\n",
       "      <td>NaN</td>\n",
       "      <td>NaN</td>\n",
       "    </tr>\n",
       "    <tr>\n",
       "      <th>1</th>\n",
       "      <td>M-AFC</td>\n",
       "      <td>NaN</td>\n",
       "      <td>NaN</td>\n",
       "      <td>NaN</td>\n",
       "      <td>NaN</td>\n",
       "      <td>NaN</td>\n",
       "      <td>NaN</td>\n",
       "    </tr>\n",
       "    <tr>\n",
       "      <th>2</th>\n",
       "      <td>M-AFC</td>\n",
       "      <td>Div</td>\n",
       "      <td>Equipo</td>\n",
       "      <td>Nombre</td>\n",
       "      <td>Lugar Nacimiento (Fecha)</td>\n",
       "      <td>Puesto</td>\n",
       "      <td>Trayectoria</td>\n",
       "    </tr>\n",
       "    <tr>\n",
       "      <th>3</th>\n",
       "      <td>M-AFC</td>\n",
       "      <td>1ª - Professional League</td>\n",
       "      <td>Al Ettifaq</td>\n",
       "      <td>Cristian David Guanca</td>\n",
       "      <td>Don Torcuato, Buenos Aires (27/03/93)</td>\n",
       "      <td>DEL</td>\n",
       "      <td>* Chacarita; Colon Santa Fe; Emelec (Ecu); Kas...</td>\n",
       "    </tr>\n",
       "    <tr>\n",
       "      <th>4</th>\n",
       "      <td>M-AFC</td>\n",
       "      <td>NaN</td>\n",
       "      <td>Al Feiha</td>\n",
       "      <td>Jonathan David Gomez</td>\n",
       "      <td>Capitan Bermudez, Santa Fe (21/12/89)</td>\n",
       "      <td>VOL</td>\n",
       "      <td>* Rosario Central; Banfield; Murcia (Esp); Ars...</td>\n",
       "    </tr>\n",
       "  </tbody>\n",
       "</table>\n",
       "</div>"
      ],
      "text/plain": [
       "  level_0                  division      equipo                 nombre  \\\n",
       "0   M-AFC                       NaN         NaN                    NaN   \n",
       "1   M-AFC                       NaN         NaN                    NaN   \n",
       "2   M-AFC                       Div      Equipo                 Nombre   \n",
       "3   M-AFC  1ª - Professional League  Al Ettifaq  Cristian David Guanca   \n",
       "4   M-AFC                       NaN    Al Feiha   Jonathan David Gomez   \n",
       "\n",
       "                              nacimiento  puesto  \\\n",
       "0                                    NaN     NaN   \n",
       "1                                    NaN     NaN   \n",
       "2               Lugar Nacimiento (Fecha)  Puesto   \n",
       "3  Don Torcuato, Buenos Aires (27/03/93)     DEL   \n",
       "4  Capitan Bermudez, Santa Fe (21/12/89)     VOL   \n",
       "\n",
       "                                         trayectoria  \n",
       "0                                                NaN  \n",
       "1                                                NaN  \n",
       "2                                        Trayectoria  \n",
       "3  * Chacarita; Colon Santa Fe; Emelec (Ecu); Kas...  \n",
       "4  * Rosario Central; Banfield; Murcia (Esp); Ars...  "
      ]
     },
     "metadata": {},
     "output_type": "display_data"
    },
    {
     "data": {
      "text/markdown": [
       "El DataFrame debería tener **2621** filas (una por cada jugador). Actualmente tiene **3141**."
      ],
      "text/plain": [
       "<IPython.core.display.Markdown object>"
      ]
     },
     "metadata": {},
     "output_type": "display_data"
    }
   ],
   "source": [
    "axem_df = pd.concat(axem_dfs) # Concatena todos los DataFrames en uno sólo\n",
    "\n",
    "axem_df.reset_index(inplace=True) # Resetea el índice. En los campos 'level_0' y 'level_1' quedan los índices anteriores.\n",
    "\n",
    "axem_df.drop([\"delete\", \"level_1\"], axis=\"columns\", inplace=True)\n",
    "\n",
    "display(md(\"La lectura del archivo *.xlsx* en un DataFrame no es precisa. Quedan muchas filas sin datos, como se puede \\\n",
    "           ver a continuación:\"))\n",
    "display(axem_df.head())\n",
    "display(md(\"El DataFrame debería tener **2621** filas (una por cada jugador). Actualmente tiene **{0}**.\".format(axem_df.shape[0])))"
   ]
  },
  {
   "cell_type": "markdown",
   "metadata": {},
   "source": [
    "#### Columna: *confederacion*"
   ]
  },
  {
   "cell_type": "code",
   "execution_count": 5,
   "metadata": {},
   "outputs": [
    {
     "data": {
      "text/markdown": [
       "Confederaciones FIFA:"
      ],
      "text/plain": [
       "<IPython.core.display.Markdown object>"
      ]
     },
     "metadata": {},
     "output_type": "display_data"
    },
    {
     "data": {
      "text/plain": [
       "array(['AFC', 'CAF', 'CONCACAF', 'CONMEBOL', 'OFC', 'UEFA'], dtype=object)"
      ]
     },
     "metadata": {},
     "output_type": "display_data"
    }
   ],
   "source": [
    "axem_df.rename({\"level_0\": \"confederacion\"}, axis=\"columns\", inplace=True) # Renombra 'level_0' a 'confederacion'\n",
    "axem_df.loc[:, \"confederacion\"] = axem_df[\"confederacion\"].apply(lambda x: x.replace(\"M-\", \"\")) # Limpia los valores\n",
    "\n",
    "display(md(\"Confederaciones FIFA:\"))\n",
    "display(axem_df[\"confederacion\"].unique())"
   ]
  },
  {
   "cell_type": "markdown",
   "metadata": {},
   "source": [
    "#### Columna: *pais*\n",
    "Como se puede ver en la imagen del archivo de Excel, el nombre de los países ocupa todo una fila, y no siempre está escrito en la misma columna."
   ]
  },
  {
   "cell_type": "code",
   "execution_count": 6,
   "metadata": {},
   "outputs": [
    {
     "data": {
      "text/html": [
       "<div>\n",
       "<style scoped>\n",
       "    .dataframe tbody tr th:only-of-type {\n",
       "        vertical-align: middle;\n",
       "    }\n",
       "\n",
       "    .dataframe tbody tr th {\n",
       "        vertical-align: top;\n",
       "    }\n",
       "\n",
       "    .dataframe thead th {\n",
       "        text-align: right;\n",
       "    }\n",
       "</style>\n",
       "<table border=\"1\" class=\"dataframe\">\n",
       "  <thead>\n",
       "    <tr style=\"text-align: right;\">\n",
       "      <th></th>\n",
       "      <th>confederacion</th>\n",
       "      <th>division</th>\n",
       "      <th>equipo</th>\n",
       "      <th>nombre</th>\n",
       "      <th>nacimiento</th>\n",
       "      <th>puesto</th>\n",
       "      <th>trayectoria</th>\n",
       "      <th>pais</th>\n",
       "    </tr>\n",
       "  </thead>\n",
       "  <tbody>\n",
       "    <tr>\n",
       "      <th>0</th>\n",
       "      <td>AFC</td>\n",
       "      <td>NaN</td>\n",
       "      <td>NaN</td>\n",
       "      <td>NaN</td>\n",
       "      <td>NaN</td>\n",
       "      <td>NaN</td>\n",
       "      <td>NaN</td>\n",
       "      <td>ARABIA SAUDITA</td>\n",
       "    </tr>\n",
       "    <tr>\n",
       "      <th>1</th>\n",
       "      <td>AFC</td>\n",
       "      <td>NaN</td>\n",
       "      <td>NaN</td>\n",
       "      <td>NaN</td>\n",
       "      <td>NaN</td>\n",
       "      <td>NaN</td>\n",
       "      <td>NaN</td>\n",
       "      <td>ARABIA SAUDITA</td>\n",
       "    </tr>\n",
       "    <tr>\n",
       "      <th>2</th>\n",
       "      <td>AFC</td>\n",
       "      <td>Div</td>\n",
       "      <td>Equipo</td>\n",
       "      <td>Nombre</td>\n",
       "      <td>Lugar Nacimiento (Fecha)</td>\n",
       "      <td>Puesto</td>\n",
       "      <td>Trayectoria</td>\n",
       "      <td>ARABIA SAUDITA</td>\n",
       "    </tr>\n",
       "    <tr>\n",
       "      <th>3</th>\n",
       "      <td>AFC</td>\n",
       "      <td>1ª - Professional League</td>\n",
       "      <td>Al Ettifaq</td>\n",
       "      <td>Cristian David Guanca</td>\n",
       "      <td>Don Torcuato, Buenos Aires (27/03/93)</td>\n",
       "      <td>DEL</td>\n",
       "      <td>* Chacarita; Colon Santa Fe; Emelec (Ecu); Kas...</td>\n",
       "      <td>ARABIA SAUDITA</td>\n",
       "    </tr>\n",
       "    <tr>\n",
       "      <th>4</th>\n",
       "      <td>AFC</td>\n",
       "      <td>NaN</td>\n",
       "      <td>Al Feiha</td>\n",
       "      <td>Jonathan David Gomez</td>\n",
       "      <td>Capitan Bermudez, Santa Fe (21/12/89)</td>\n",
       "      <td>VOL</td>\n",
       "      <td>* Rosario Central; Banfield; Murcia (Esp); Ars...</td>\n",
       "      <td>ARABIA SAUDITA</td>\n",
       "    </tr>\n",
       "  </tbody>\n",
       "</table>\n",
       "</div>"
      ],
      "text/plain": [
       "  confederacion                  division      equipo                 nombre  \\\n",
       "0           AFC                       NaN         NaN                    NaN   \n",
       "1           AFC                       NaN         NaN                    NaN   \n",
       "2           AFC                       Div      Equipo                 Nombre   \n",
       "3           AFC  1ª - Professional League  Al Ettifaq  Cristian David Guanca   \n",
       "4           AFC                       NaN    Al Feiha   Jonathan David Gomez   \n",
       "\n",
       "                              nacimiento  puesto  \\\n",
       "0                                    NaN     NaN   \n",
       "1                                    NaN     NaN   \n",
       "2               Lugar Nacimiento (Fecha)  Puesto   \n",
       "3  Don Torcuato, Buenos Aires (27/03/93)     DEL   \n",
       "4  Capitan Bermudez, Santa Fe (21/12/89)     VOL   \n",
       "\n",
       "                                         trayectoria            pais  \n",
       "0                                                NaN  ARABIA SAUDITA  \n",
       "1                                                NaN  ARABIA SAUDITA  \n",
       "2                                        Trayectoria  ARABIA SAUDITA  \n",
       "3  * Chacarita; Colon Santa Fe; Emelec (Ecu); Kas...  ARABIA SAUDITA  \n",
       "4  * Rosario Central; Banfield; Murcia (Esp); Ars...  ARABIA SAUDITA  "
      ]
     },
     "metadata": {},
     "output_type": "display_data"
    }
   ],
   "source": [
    "def get_pais(row):\n",
    "    \"\"\" Busca en en las columnas 'division', 'equipo' y 'nombre' el nombre de algún pais.\n",
    "    Si está escrito en mayúsculas, se considera un país\"\"\"\n",
    "    columnas_con_paises = [\"division\", \"equipo\", \"nombre\"]\n",
    "\n",
    "    for col in columnas_con_paises:\n",
    "        if re.sub(\"\\.\", \"\", str(row[col]).strip()).isupper():\n",
    "            return row[col].strip()\n",
    "\n",
    "    return None\n",
    "\n",
    "axem_df[\"pais\"] = axem_df.apply(get_pais, axis=1) # Para cada fila, busca si en alguna columna está el nombre de un país\n",
    "\n",
    "# Hay algunos equipos con nombres en mayúsculas que se los confunde con países\n",
    "axem_df[\"pais\"].replace(config[\"pais_exceptions\"], value=np.nan, inplace=True)\n",
    "\n",
    " # Completa las celdas vacías en 'pais' con el valor de la inmediata anterior que no es NaN\n",
    "axem_df[\"pais\"].fillna(method=\"ffill\", inplace=True)\n",
    "\n",
    "axem_df[\"pais\"].fillna(\"ARABIA SAUDITA\", inplace=True) # Las que quedan vacías corresponden a Arabia Saudita\n",
    "\n",
    "display(axem_df.head())"
   ]
  },
  {
   "cell_type": "markdown",
   "metadata": {},
   "source": [
    "#### Columna: *continente*"
   ]
  },
  {
   "cell_type": "code",
   "execution_count": 7,
   "metadata": {},
   "outputs": [
    {
     "data": {
      "text/html": [
       "<div>\n",
       "<style scoped>\n",
       "    .dataframe tbody tr th:only-of-type {\n",
       "        vertical-align: middle;\n",
       "    }\n",
       "\n",
       "    .dataframe tbody tr th {\n",
       "        vertical-align: top;\n",
       "    }\n",
       "\n",
       "    .dataframe thead th {\n",
       "        text-align: right;\n",
       "    }\n",
       "</style>\n",
       "<table border=\"1\" class=\"dataframe\">\n",
       "  <thead>\n",
       "    <tr style=\"text-align: right;\">\n",
       "      <th></th>\n",
       "      <th>confederacion</th>\n",
       "      <th>pais</th>\n",
       "      <th>continente</th>\n",
       "    </tr>\n",
       "  </thead>\n",
       "  <tbody>\n",
       "    <tr>\n",
       "      <th>474</th>\n",
       "      <td>CONCACAF</td>\n",
       "      <td>EE.UU.</td>\n",
       "      <td>Americas</td>\n",
       "    </tr>\n",
       "    <tr>\n",
       "      <th>1714</th>\n",
       "      <td>UEFA</td>\n",
       "      <td>ESPAÑA</td>\n",
       "      <td>Europe</td>\n",
       "    </tr>\n",
       "    <tr>\n",
       "      <th>139</th>\n",
       "      <td>AFC</td>\n",
       "      <td>QATAR</td>\n",
       "      <td>Asia</td>\n",
       "    </tr>\n",
       "  </tbody>\n",
       "</table>\n",
       "</div>"
      ],
      "text/plain": [
       "     confederacion    pais continente\n",
       "474       CONCACAF  EE.UU.   Americas\n",
       "1714          UEFA  ESPAÑA     Europe\n",
       "139            AFC   QATAR       Asia"
      ]
     },
     "metadata": {},
     "output_type": "display_data"
    }
   ],
   "source": [
    "# Crea la columna continente en base a la confederación\n",
    "axem_df[\"continente\"] = axem_df[\"confederacion\"].map(config[\"confederacion_continente\"])\n",
    "\n",
    "display(axem_df.sample(3).loc[:, [\"confederacion\", \"pais\", \"continente\"]])"
   ]
  },
  {
   "cell_type": "markdown",
   "metadata": {},
   "source": [
    "#### Columna: *iso_3*\n",
    "Se intenta identificar unívocamente a los países con los códigos de 3 caracteres *ISO 3166-1 alfa-3* [(Wikipedia)](https://es.wikipedia.org/wiki/ISO_3166-1)"
   ]
  },
  {
   "cell_type": "code",
   "execution_count": 8,
   "metadata": {},
   "outputs": [
    {
     "data": {
      "text/html": [
       "<div>\n",
       "<style scoped>\n",
       "    .dataframe tbody tr th:only-of-type {\n",
       "        vertical-align: middle;\n",
       "    }\n",
       "\n",
       "    .dataframe tbody tr th {\n",
       "        vertical-align: top;\n",
       "    }\n",
       "\n",
       "    .dataframe thead th {\n",
       "        text-align: right;\n",
       "    }\n",
       "</style>\n",
       "<table border=\"1\" class=\"dataframe\">\n",
       "  <thead>\n",
       "    <tr style=\"text-align: right;\">\n",
       "      <th></th>\n",
       "      <th>pais</th>\n",
       "      <th>continente</th>\n",
       "      <th>pais_iso_3</th>\n",
       "    </tr>\n",
       "  </thead>\n",
       "  <tbody>\n",
       "    <tr>\n",
       "      <th>279</th>\n",
       "      <td>EE.UU.</td>\n",
       "      <td>Americas</td>\n",
       "      <td>USA</td>\n",
       "    </tr>\n",
       "    <tr>\n",
       "      <th>218</th>\n",
       "      <td>CANADA</td>\n",
       "      <td>Americas</td>\n",
       "      <td>CAN</td>\n",
       "    </tr>\n",
       "    <tr>\n",
       "      <th>1553</th>\n",
       "      <td>ESLOVENIA</td>\n",
       "      <td>Europe</td>\n",
       "      <td>SVN</td>\n",
       "    </tr>\n",
       "  </tbody>\n",
       "</table>\n",
       "</div>"
      ],
      "text/plain": [
       "           pais continente pais_iso_3\n",
       "279      EE.UU.   Americas        USA\n",
       "218      CANADA   Americas        CAN\n",
       "1553  ESLOVENIA     Europe        SVN"
      ]
     },
     "metadata": {},
     "output_type": "display_data"
    }
   ],
   "source": [
    "def get_iso_3(pais, continente, paises_df):\n",
    "    \"\"\" Devuelve el código 'iso_3' para 'pais' \"\"\"\n",
    "    pais_iniciales_3 = pais[0:3]\n",
    "    paises_df_subset = paises_df.query(\"continente == @continente\").copy()\n",
    "    \n",
    "    # Primero busca coincidencia de las 3 primeras letras. Si no hay coincidencia, busca por Distancia de Levenshtein.\n",
    "    if  sum(paises_df_subset[\"iniciales_3\"] == pais_iniciales_3) > 0:\n",
    "        return paises_df_subset.query(\"iniciales_3 == @pais_iniciales_3\").iloc[0][\"iso_3\"]\n",
    "    else:\n",
    "        paises_df_subset.loc[:, \"dist\"] = paises_df_subset[\"nombre_oficial\"].apply(lambda x: sd.levenshtein(x, pais))\n",
    "        return paises_df_subset.loc[paises_df_subset[\"dist\"].idxmin()][\"iso_3\"]\n",
    "    \n",
    "pais_iso_3_tabla_match = dict()\n",
    "paises_axem_df = axem_df.loc[:, [\"pais\", \"continente\"]].copy().drop_duplicates()\n",
    "\n",
    "for index, row in paises_axem_df.iterrows():\n",
    "    if row[\"pais\"] in config[\"name_exceptions\"]:\n",
    "        pais_iso_3_tabla_match[row[\"pais\"]] = config[\"name_exceptions\"][row[\"pais\"]]\n",
    "    else:\n",
    "        pais_iso_3_tabla_match[row[\"pais\"]] = get_iso_3(row[\"pais\"], row[\"continente\"], paises_df)\n",
    "\n",
    "axem_df[\"pais_iso_3\"] = axem_df[\"pais\"].apply(lambda x: pais_iso_3_tabla_match[x])\n",
    "\n",
    "display(axem_df.sample(3).loc[:, [\"pais\", \"continente\", \"pais_iso_3\"]])"
   ]
  },
  {
   "cell_type": "markdown",
   "metadata": {},
   "source": [
    "#### Columnas: *division*, *categoria* y *liga*\n",
    "La intención es separar la *categoria* (número) del nombre de la *liga*. \n",
    "Por ejemplo:\n",
    "  * *division*: 2°- Victoria National Premier League\n",
    "    * *categoria*: 2\n",
    "    * *liga*: Victoria National Premier League"
   ]
  },
  {
   "cell_type": "code",
   "execution_count": 9,
   "metadata": {},
   "outputs": [
    {
     "data": {
      "text/html": [
       "<div>\n",
       "<style scoped>\n",
       "    .dataframe tbody tr th:only-of-type {\n",
       "        vertical-align: middle;\n",
       "    }\n",
       "\n",
       "    .dataframe tbody tr th {\n",
       "        vertical-align: top;\n",
       "    }\n",
       "\n",
       "    .dataframe thead th {\n",
       "        text-align: right;\n",
       "    }\n",
       "</style>\n",
       "<table border=\"1\" class=\"dataframe\">\n",
       "  <thead>\n",
       "    <tr style=\"text-align: right;\">\n",
       "      <th></th>\n",
       "      <th>division</th>\n",
       "      <th>categoria</th>\n",
       "      <th>liga</th>\n",
       "    </tr>\n",
       "  </thead>\n",
       "  <tbody>\n",
       "    <tr>\n",
       "      <th>1435</th>\n",
       "      <td>2° - Segona Diviso</td>\n",
       "      <td>2</td>\n",
       "      <td>Segona Diviso</td>\n",
       "    </tr>\n",
       "    <tr>\n",
       "      <th>440</th>\n",
       "      <td>Universitario</td>\n",
       "      <td>None</td>\n",
       "      <td>Universitario</td>\n",
       "    </tr>\n",
       "    <tr>\n",
       "      <th>2037</th>\n",
       "      <td>7° Catalunya - Tercera/15</td>\n",
       "      <td>7</td>\n",
       "      <td>Catalunya - Tercera/15</td>\n",
       "    </tr>\n",
       "  </tbody>\n",
       "</table>\n",
       "</div>"
      ],
      "text/plain": [
       "                       division categoria                    liga\n",
       "1435         2° - Segona Diviso         2           Segona Diviso\n",
       "440               Universitario      None           Universitario\n",
       "2037  7° Catalunya - Tercera/15         7  Catalunya - Tercera/15"
      ]
     },
     "metadata": {},
     "output_type": "display_data"
    }
   ],
   "source": [
    "axem_df[\"division\"].fillna(method=\"ffill\", inplace=True) # Completa los NaN\n",
    "\n",
    "\n",
    "def get_categoria_liga(s):\n",
    "    \"\"\" Devuelve la categoria y el nombre de la liga \"\"\"\n",
    "    regex_match = re.search(\"([0-9]+)\\s?[°|ª]\\s?-?\\s?(.+)\", str(s))\n",
    "    if regex_match is not None:\n",
    "        return regex_match.group(1), regex_match.group(2)\n",
    "    else:\n",
    "        return None, s\n",
    "\n",
    "# Agrega las columnas 'categoria' y 'liga'\n",
    "axem_df[\"categoria\"], axem_df[\"liga\"] = zip(*axem_df[\"division\"].map(get_categoria_liga))\n",
    "\n",
    "display(axem_df.sample(3).loc[: , [\"division\", \"categoria\", \"liga\"]])"
   ]
  },
  {
   "cell_type": "markdown",
   "metadata": {},
   "source": [
    "#### Columna: *equipo*\n",
    "Cuando más de un jugador pertenece al mismo equipo, sólo se indica el equipo en el primer jugador de la lista. Los que están por debajo tienen el campo vacío. Se completa a continuación."
   ]
  },
  {
   "cell_type": "code",
   "execution_count": 10,
   "metadata": {},
   "outputs": [],
   "source": [
    "axem_df[\"equipo\"].fillna(method=\"ffill\", inplace=True) # Completa los vacíos\n",
    "axem_df = axem_df[axem_df[\"equipo\"] != \"TOTAL\"] # Borra las filas que tienen 'TOTAL' en 'equipo'"
   ]
  },
  {
   "cell_type": "markdown",
   "metadata": {},
   "source": [
    "#### Columna: *nombre*"
   ]
  },
  {
   "cell_type": "code",
   "execution_count": 11,
   "metadata": {},
   "outputs": [
    {
     "data": {
      "text/markdown": [
       "El DataFrame ya tiene la cantidad de filas correctas: **2621**"
      ],
      "text/plain": [
       "<IPython.core.display.Markdown object>"
      ]
     },
     "metadata": {},
     "output_type": "display_data"
    }
   ],
   "source": [
    "axem_df.dropna(subset=[\"nombre\"], inplace=True) # Borra las filas que no tienen *nombre*\n",
    "axem_df[\"nombre\"] = axem_df[\"nombre\"].apply(lambda x: str(x).strip()) # Borra espacios en blanco\n",
    "axem_df = axem_df[(axem_df[\"nombre\"] != \"Nombre\") & (axem_df[\"nombre\"] != \"MALASIA\")]\n",
    "\n",
    "display(md(\"El DataFrame ya tiene la cantidad de filas correctas: **{0}**\".format(axem_df.shape[0])))"
   ]
  },
  {
   "cell_type": "markdown",
   "metadata": {},
   "source": [
    "#### Columnas: *ciudad_nacimiento* y *fecha_nacimiento*\n",
    "Separa la ciudad y fecha de nacimiento en dos columnas distinas"
   ]
  },
  {
   "cell_type": "code",
   "execution_count": 12,
   "metadata": {},
   "outputs": [
    {
     "data": {
      "text/html": [
       "<div>\n",
       "<style scoped>\n",
       "    .dataframe tbody tr th:only-of-type {\n",
       "        vertical-align: middle;\n",
       "    }\n",
       "\n",
       "    .dataframe tbody tr th {\n",
       "        vertical-align: top;\n",
       "    }\n",
       "\n",
       "    .dataframe thead th {\n",
       "        text-align: right;\n",
       "    }\n",
       "</style>\n",
       "<table border=\"1\" class=\"dataframe\">\n",
       "  <thead>\n",
       "    <tr style=\"text-align: right;\">\n",
       "      <th></th>\n",
       "      <th>nacimiento</th>\n",
       "      <th>ciudad_nacimiento</th>\n",
       "      <th>fecha_nacimiento</th>\n",
       "    </tr>\n",
       "  </thead>\n",
       "  <tbody>\n",
       "    <tr>\n",
       "      <th>2281</th>\n",
       "      <td>???</td>\n",
       "      <td>None</td>\n",
       "      <td>NaT</td>\n",
       "    </tr>\n",
       "    <tr>\n",
       "      <th>1794</th>\n",
       "      <td>Resistencia, Chaco (??/??/99)</td>\n",
       "      <td>Resistencia, Chaco</td>\n",
       "      <td>NaT</td>\n",
       "    </tr>\n",
       "    <tr>\n",
       "      <th>333</th>\n",
       "      <td>Ciudad de Cordoba</td>\n",
       "      <td>None</td>\n",
       "      <td>NaT</td>\n",
       "    </tr>\n",
       "  </tbody>\n",
       "</table>\n",
       "</div>"
      ],
      "text/plain": [
       "                         nacimiento    ciudad_nacimiento fecha_nacimiento\n",
       "2281                            ???                 None              NaT\n",
       "1794  Resistencia, Chaco (??/??/99)  Resistencia, Chaco               NaT\n",
       "333               Ciudad de Cordoba                 None              NaT"
      ]
     },
     "metadata": {},
     "output_type": "display_data"
    }
   ],
   "source": [
    "def get_datos_nacimiento(s):\n",
    "    \"\"\" Devuelve la ciudad y fecha de nacimiento \"\"\"\n",
    "    regex_match = re.search(\"(.+)?\\s?\\\\((.+)\\\\)\", str(s))\n",
    "    if regex_match is not None:\n",
    "        return regex_match.group(1), regex_match.group(2)\n",
    "    else:\n",
    "        return None, None\n",
    "\n",
    "axem_df[\"ciudad_nacimiento\"], axem_df[\"fecha_nacimiento\"] = zip(*axem_df[\"nacimiento\"].map(get_datos_nacimiento))\n",
    "axem_df.loc[:, \"fecha_nacimiento\"] = axem_df[\"fecha_nacimiento\"].apply(lambda x: None if (x is None or \"?\" in x) else x)\n",
    "axem_df.loc[:, \"fecha_nacimiento\"] = pd.to_datetime(axem_df[\"fecha_nacimiento\"], infer_datetime_format=True, errors=\"coerce\")\n",
    "\n",
    "# Borra las fechas de nacimiento posteriores al 01/01/2006\n",
    "outliers = axem_df.loc[:, \"fecha_nacimiento\"] > pd.Timestamp('2006-01-01')\n",
    "axem_df.loc[outliers, \"fecha_nacimiento\"] = None\n",
    "\n",
    "display(axem_df.sample(3).loc[:, [\"nacimiento\", \"ciudad_nacimiento\", \"fecha_nacimiento\"]])"
   ]
  },
  {
   "cell_type": "markdown",
   "metadata": {},
   "source": [
    "#### Columna: *puesto*"
   ]
  },
  {
   "cell_type": "code",
   "execution_count": 13,
   "metadata": {},
   "outputs": [],
   "source": [
    "axem_df[\"puesto\"].replace({\"?\": np.nan}, inplace=True) # Reemplaza '?' por NaN"
   ]
  },
  {
   "cell_type": "markdown",
   "metadata": {},
   "source": [
    "#### Columna: *trayectoria*"
   ]
  },
  {
   "cell_type": "code",
   "execution_count": 14,
   "metadata": {},
   "outputs": [
    {
     "data": {
      "text/html": [
       "<div>\n",
       "<style scoped>\n",
       "    .dataframe tbody tr th:only-of-type {\n",
       "        vertical-align: middle;\n",
       "    }\n",
       "\n",
       "    .dataframe tbody tr th {\n",
       "        vertical-align: top;\n",
       "    }\n",
       "\n",
       "    .dataframe thead th {\n",
       "        text-align: right;\n",
       "    }\n",
       "</style>\n",
       "<table border=\"1\" class=\"dataframe\">\n",
       "  <thead>\n",
       "    <tr style=\"text-align: right;\">\n",
       "      <th></th>\n",
       "      <th>nombre</th>\n",
       "      <th>trayectoria</th>\n",
       "    </tr>\n",
       "  </thead>\n",
       "  <tbody>\n",
       "    <tr>\n",
       "      <th>1434</th>\n",
       "      <td>Angel Ezequiel Marchegiani</td>\n",
       "      <td>[San Miguel (ARG), Platense (ARG), Juventud Un...</td>\n",
       "    </tr>\n",
       "    <tr>\n",
       "      <th>2631</th>\n",
       "      <td>Lucas Emanuel Cardoso</td>\n",
       "      <td>[Banfield (ARG), Brown de Adrogue (ARG), Depor...</td>\n",
       "    </tr>\n",
       "    <tr>\n",
       "      <th>2000</th>\n",
       "      <td>Federico Martin Ihitsague</td>\n",
       "      <td>[Atletico Santa Rosa (ARG)]</td>\n",
       "    </tr>\n",
       "  </tbody>\n",
       "</table>\n",
       "</div>"
      ],
      "text/plain": [
       "                          nombre  \\\n",
       "1434  Angel Ezequiel Marchegiani   \n",
       "2631       Lucas Emanuel Cardoso   \n",
       "2000   Federico Martin Ihitsague   \n",
       "\n",
       "                                            trayectoria  \n",
       "1434  [San Miguel (ARG), Platense (ARG), Juventud Un...  \n",
       "2631  [Banfield (ARG), Brown de Adrogue (ARG), Depor...  \n",
       "2000                        [Atletico Santa Rosa (ARG)]  "
      ]
     },
     "metadata": {},
     "output_type": "display_data"
    }
   ],
   "source": [
    "axem_df[\"trayectoria\"].replace([\"* ???\", \"*  ???\"], value=np.nan, inplace=True) # Reemplaza '* ???' y '*  ???' por NaN\n",
    "\n",
    "\n",
    "def get_iso_3_codigo(codigo_pais, paises_df):\n",
    "    \"\"\" Devuelve el iso_3 para 'codigo_pais' \"\"\"\n",
    "    try:\n",
    "        if codigo_pais in config[\"code_exceptions\"]:\n",
    "            iso_3 = config[\"code_exceptions\"][codigo_pais]\n",
    "        elif len(codigo_pais) == 2:\n",
    "            iso_3 = paises_df.query(\"iso_2 == @codigo_pais\").iloc[0][\"iso_3\"]\n",
    "        elif len(codigo_pais) == 3:\n",
    "            iso_3 = paises_df.query(\"iso_3 == @codigo_pais | iniciales_3 == @codigo_pais\").iloc[0][\"iso_3\"]\n",
    "        else:\n",
    "            iso_3 = paises_df.query(\"iniciales_4 == @codigo_pais\").iloc[0][\"iso_3\"]\n",
    "    except IndexError:\n",
    "        iso_3 = \"SD\"\n",
    "\n",
    "    return iso_3\n",
    "\n",
    "\n",
    "def get_trayectoria(trayectoria, paises_df):\n",
    "    \"\"\" Devuelve la trayectoria en una lista y con los códigos de países normalizados \"\"\"\n",
    "    if trayectoria is None or trayectoria is np.nan:\n",
    "        return None\n",
    "\n",
    "    trayectoria = str(trayectoria).replace(\"* \", \"\")\n",
    "\n",
    "    # Lista con los clubes de la trayectoria\n",
    "    clubes = re.split(\";|,|:|(?<=\\))\\s(?=\\w)|(?<=\\])\\s(?=\\w)\", trayectoria)\n",
    "\n",
    "    trayectoria_norm = list()   # Lista donde guarda la trayectoria normalizada\n",
    "    for club in clubes:\n",
    "        if club == \"\":\n",
    "            continue\n",
    "\n",
    "        club = re.sub(\"\\[di\\]|\\(di\\)\", \"\", club).strip()  # Borra los indicadores de divisiones inferiores\n",
    "\n",
    "        codigo_pais_match = re.search(\"\\((.+)\\)\", club)\n",
    "        if codigo_pais_match is None:\n",
    "            iso_3 = \"ARG\"   # Si no indica el código de páis, el equipo es de Argentina\n",
    "        else:\n",
    "            club = re.sub(\"[\\[|\\(].+[\\]|\\)]\", \"\", club).strip() # Borra lo que hay dentro de paréntesis o corchetes\n",
    "            codigo_pais = str.upper(codigo_pais_match.group(1))\n",
    "            iso_3 = get_iso_3_codigo(codigo_pais, paises_df)\n",
    "\n",
    "        trayectoria_norm.append(\"{0} ({1})\".format(club, iso_3))\n",
    "\n",
    "    return trayectoria_norm\n",
    "\n",
    "# Normaliza la columna 'trayectoria'\n",
    "axem_df[\"trayectoria\"] = axem_df[\"trayectoria\"].apply(lambda x: get_trayectoria(x, paises_df))\n",
    "\n",
    "display(axem_df.sample(3).loc[:, [\"nombre\", \"trayectoria\"]])"
   ]
  },
  {
   "cell_type": "markdown",
   "metadata": {},
   "source": [
    "#### Archivo de *trayectorias*\n",
    "Se creó un nuevo DataFrame únicamente con la información de la trayectoria de los jugadores, en un formato más amigable.\n",
    "En este caso, cada fila representa el paso de un jugador por un club. Es decir, si un jugador estuvo en 5 clubes, estará en 5\n",
    "filas que indican los clubes por los que pasó."
   ]
  },
  {
   "cell_type": "code",
   "execution_count": 15,
   "metadata": {},
   "outputs": [
    {
     "data": {
      "text/html": [
       "<div>\n",
       "<style scoped>\n",
       "    .dataframe tbody tr th:only-of-type {\n",
       "        vertical-align: middle;\n",
       "    }\n",
       "\n",
       "    .dataframe tbody tr th {\n",
       "        vertical-align: top;\n",
       "    }\n",
       "\n",
       "    .dataframe thead th {\n",
       "        text-align: right;\n",
       "    }\n",
       "</style>\n",
       "<table border=\"1\" class=\"dataframe\">\n",
       "  <thead>\n",
       "    <tr style=\"text-align: right;\">\n",
       "      <th></th>\n",
       "      <th>id_jugador</th>\n",
       "      <th>nombre</th>\n",
       "      <th>orden</th>\n",
       "      <th>equipo</th>\n",
       "    </tr>\n",
       "  </thead>\n",
       "  <tbody>\n",
       "    <tr>\n",
       "      <th>0</th>\n",
       "      <td>0</td>\n",
       "      <td>Cristian David Guanca</td>\n",
       "      <td>0</td>\n",
       "      <td>Chacarita (ARG)</td>\n",
       "    </tr>\n",
       "    <tr>\n",
       "      <th>2621</th>\n",
       "      <td>0</td>\n",
       "      <td>Cristian David Guanca</td>\n",
       "      <td>1</td>\n",
       "      <td>Colon Santa Fe (ARG)</td>\n",
       "    </tr>\n",
       "    <tr>\n",
       "      <th>5242</th>\n",
       "      <td>0</td>\n",
       "      <td>Cristian David Guanca</td>\n",
       "      <td>2</td>\n",
       "      <td>Emelec (ECU)</td>\n",
       "    </tr>\n",
       "    <tr>\n",
       "      <th>7863</th>\n",
       "      <td>0</td>\n",
       "      <td>Cristian David Guanca</td>\n",
       "      <td>3</td>\n",
       "      <td>Kasimpasa (TUR)</td>\n",
       "    </tr>\n",
       "    <tr>\n",
       "      <th>10484</th>\n",
       "      <td>0</td>\n",
       "      <td>Cristian David Guanca</td>\n",
       "      <td>4</td>\n",
       "      <td>Colon de Santa Fe (ARG)</td>\n",
       "    </tr>\n",
       "  </tbody>\n",
       "</table>\n",
       "</div>"
      ],
      "text/plain": [
       "       id_jugador                 nombre orden                   equipo\n",
       "0               0  Cristian David Guanca     0          Chacarita (ARG)\n",
       "2621            0  Cristian David Guanca     1     Colon Santa Fe (ARG)\n",
       "5242            0  Cristian David Guanca     2             Emelec (ECU)\n",
       "7863            0  Cristian David Guanca     3          Kasimpasa (TUR)\n",
       "10484           0  Cristian David Guanca     4  Colon de Santa Fe (ARG)"
      ]
     },
     "metadata": {},
     "output_type": "display_data"
    }
   ],
   "source": [
    "axem_df.reset_index(inplace=True) # Resetea el índice\n",
    "axem_df.index.name = \"id_jugador\" # Nombre del nuevo índice de 'axem_df' (cada fila es un jugador)\n",
    "\n",
    "\n",
    "def get_trayectoria_completa(row):\n",
    "    \" Devuelve el listado de la trayectoria con el equipo actual incluido \"\n",
    "    equipo_actual = row[\"equipo\"] + \" (\" + row[\"pais_iso_3\"] + \")\"\n",
    "    if row[\"trayectoria\"] is None:\n",
    "        return [equipo_actual]\n",
    "    else:\n",
    "        return row[\"trayectoria\"] + [equipo_actual]\n",
    "\n",
    "axem_df.loc[:, \"trayectoria\"] = axem_df.apply(get_trayectoria_completa, axis=1) # Agrega el equipo actual a la trayectoria\n",
    "\n",
    "# Nuevo DataFrame 'trayectorias_df'\n",
    "trayectorias_df = axem_df.loc[:, [\"nombre\"]].copy()\n",
    "trayectorias_df = axem_df[\"trayectoria\"].apply(pd.Series)\\\n",
    ".merge(trayectorias_df, left_index=True, right_index=True)\\\n",
    ".reset_index()\\\n",
    ".melt(id_vars=[\"id_jugador\", \"nombre\"], value_name = \"equipo\", var_name = \"orden\")\\\n",
    ".dropna(subset=[\"equipo\"])\n",
    "\n",
    "trayectorias_df.sort_values(by=[\"id_jugador\", \"orden\"], inplace=True) # Ordena el DataFrame por 'id_jugador' y 'orden'\n",
    "display(trayectorias_df.head())"
   ]
  },
  {
   "cell_type": "code",
   "execution_count": 16,
   "metadata": {},
   "outputs": [
    {
     "data": {
      "text/html": [
       "<div>\n",
       "<style scoped>\n",
       "    .dataframe tbody tr th:only-of-type {\n",
       "        vertical-align: middle;\n",
       "    }\n",
       "\n",
       "    .dataframe tbody tr th {\n",
       "        vertical-align: top;\n",
       "    }\n",
       "\n",
       "    .dataframe thead th {\n",
       "        text-align: right;\n",
       "    }\n",
       "</style>\n",
       "<table border=\"1\" class=\"dataframe\">\n",
       "  <thead>\n",
       "    <tr style=\"text-align: right;\">\n",
       "      <th></th>\n",
       "      <th>id_jugador</th>\n",
       "      <th>nombre</th>\n",
       "      <th>orden</th>\n",
       "      <th>equipo</th>\n",
       "      <th>pais_iso_3</th>\n",
       "    </tr>\n",
       "  </thead>\n",
       "  <tbody>\n",
       "    <tr>\n",
       "      <th>0</th>\n",
       "      <td>0</td>\n",
       "      <td>Cristian David Guanca</td>\n",
       "      <td>0</td>\n",
       "      <td>Chacarita</td>\n",
       "      <td>ARG</td>\n",
       "    </tr>\n",
       "    <tr>\n",
       "      <th>2621</th>\n",
       "      <td>0</td>\n",
       "      <td>Cristian David Guanca</td>\n",
       "      <td>1</td>\n",
       "      <td>Colon Santa Fe</td>\n",
       "      <td>ARG</td>\n",
       "    </tr>\n",
       "    <tr>\n",
       "      <th>5242</th>\n",
       "      <td>0</td>\n",
       "      <td>Cristian David Guanca</td>\n",
       "      <td>2</td>\n",
       "      <td>Emelec</td>\n",
       "      <td>ECU</td>\n",
       "    </tr>\n",
       "    <tr>\n",
       "      <th>7863</th>\n",
       "      <td>0</td>\n",
       "      <td>Cristian David Guanca</td>\n",
       "      <td>3</td>\n",
       "      <td>Kasimpasa</td>\n",
       "      <td>TUR</td>\n",
       "    </tr>\n",
       "    <tr>\n",
       "      <th>10484</th>\n",
       "      <td>0</td>\n",
       "      <td>Cristian David Guanca</td>\n",
       "      <td>4</td>\n",
       "      <td>Colon de Santa Fe</td>\n",
       "      <td>ARG</td>\n",
       "    </tr>\n",
       "  </tbody>\n",
       "</table>\n",
       "</div>"
      ],
      "text/plain": [
       "       id_jugador                 nombre orden             equipo pais_iso_3\n",
       "0               0  Cristian David Guanca     0          Chacarita        ARG\n",
       "2621            0  Cristian David Guanca     1     Colon Santa Fe        ARG\n",
       "5242            0  Cristian David Guanca     2             Emelec        ECU\n",
       "7863            0  Cristian David Guanca     3          Kasimpasa        TUR\n",
       "10484           0  Cristian David Guanca     4  Colon de Santa Fe        ARG"
      ]
     },
     "metadata": {},
     "output_type": "display_data"
    }
   ],
   "source": [
    "# Separa en una nueva columna el código de país\n",
    "trayectorias_df.loc[:, \"pais_iso_3\"] = trayectorias_df[\"equipo\"].apply(lambda x: re.search(\"\\((.{3})\\)\", x).group(1))\n",
    "trayectorias_df.loc[:, \"equipo\"] = trayectorias_df[\"equipo\"].apply(lambda x: re.sub(\"\\(.{3}\\)\", \"\", x).strip())\n",
    "\n",
    "display(trayectorias_df.head())"
   ]
  },
  {
   "cell_type": "markdown",
   "metadata": {},
   "source": [
    "#### Validación"
   ]
  },
  {
   "cell_type": "code",
   "execution_count": 17,
   "metadata": {},
   "outputs": [
    {
     "data": {
      "text/markdown": [
       "La cantidad de filas del DataFrame tienen que ser 2621. Filas: **2621**"
      ],
      "text/plain": [
       "<IPython.core.display.Markdown object>"
      ]
     },
     "metadata": {},
     "output_type": "display_data"
    },
    {
     "data": {
      "text/plain": [
       "UEFA        1558\n",
       "CONMEBOL     521\n",
       "CONCACAF     414\n",
       "AFC           68\n",
       "OFC           58\n",
       "CAF            2\n",
       "Name: confederacion, dtype: int64"
      ]
     },
     "metadata": {},
     "output_type": "display_data"
    },
    {
     "data": {
      "text/markdown": [
       "Fecha de nacimiento del jugador mayor: **28/01/1971**"
      ],
      "text/plain": [
       "<IPython.core.display.Markdown object>"
      ]
     },
     "metadata": {},
     "output_type": "display_data"
    },
    {
     "data": {
      "text/markdown": [
       "Fecha de nacimiento del jugador menor: **02/08/2005**"
      ],
      "text/plain": [
       "<IPython.core.display.Markdown object>"
      ]
     },
     "metadata": {},
     "output_type": "display_data"
    },
    {
     "data": {
      "text/markdown": [
       "Puestos de jugadores: **['DEL' 'VOL' 'ARQ' nan 'DEF' 'DEL ']**"
      ],
      "text/plain": [
       "<IPython.core.display.Markdown object>"
      ]
     },
     "metadata": {},
     "output_type": "display_data"
    }
   ],
   "source": [
    "display(md(\"La cantidad de filas del DataFrame tienen que ser 2621. Filas: **{0}**\".format(axem_df.shape[0])))\n",
    "display(axem_df[\"confederacion\"].value_counts())\n",
    "\n",
    "display(md(\"Fecha de nacimiento del jugador mayor: **{:%d/%m/%Y}**\".format(axem_df[\"fecha_nacimiento\"].min())))\n",
    "display(md(\"Fecha de nacimiento del jugador menor: **{:%d/%m/%Y}**\".format(axem_df[\"fecha_nacimiento\"].max())))\n",
    "\n",
    "display(md(\"Puestos de jugadores: **{0}**\".format(axem_df[\"puesto\"].unique())))"
   ]
  },
  {
   "cell_type": "markdown",
   "metadata": {},
   "source": [
    "#### Archivos de salida\n",
    "Guarda los archivos de salida en formato *CSV* de acuerdo a los parámetros fijados en el archivo de configuración"
   ]
  },
  {
   "cell_type": "code",
   "execution_count": 18,
   "metadata": {},
   "outputs": [],
   "source": [
    "axem_df.to_csv(**config[\"output\"][\"axem\"])\n",
    "trayectorias_df.to_csv(**config[\"output\"][\"trayectorias\"])"
   ]
  }
 ],
 "metadata": {
  "kernelspec": {
   "display_name": "Python 3",
   "language": "python",
   "name": "python3"
  },
  "language_info": {
   "codemirror_mode": {
    "name": "ipython",
    "version": 3
   },
   "file_extension": ".py",
   "mimetype": "text/x-python",
   "name": "python",
   "nbconvert_exporter": "python",
   "pygments_lexer": "ipython3",
   "version": "3.6.3"
  }
 },
 "nbformat": 4,
 "nbformat_minor": 1
}
